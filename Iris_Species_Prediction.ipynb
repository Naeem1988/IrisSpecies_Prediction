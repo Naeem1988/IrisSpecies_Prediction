{
  "nbformat": 4,
  "nbformat_minor": 0,
  "metadata": {
    "_change_revision": 0,
    "_is_fork": false,
    "kernelspec": {
      "display_name": "Python 3",
      "language": "python",
      "name": "python3"
    },
    "language_info": {
      "codemirror_mode": {
        "name": "ipython",
        "version": 3
      },
      "file_extension": ".py",
      "mimetype": "text/x-python",
      "name": "python",
      "nbconvert_exporter": "python",
      "pygments_lexer": "ipython3",
      "version": "3.6.0"
    },
    "colab": {
      "name": "Iris_Species_Prediction.ipynb",
      "provenance": [],
      "collapsed_sections": []
    }
  },
  "cells": [
    {
      "cell_type": "markdown",
      "metadata": {
        "_cell_guid": "80d0aba5-5300-a91f-ec41-a4d0535a5cb2",
        "id": "gbIH5Vex_aLT"
      },
      "source": [
        "#My first project in data analysis and machine learning\n",
        "\n",
        "**1 - Data analysis**\n",
        "\n",
        "1.1 - Load the data\n",
        "\n",
        "1.2 - Manipulating the data\n",
        "\n",
        "1.3 - Visualizing the data\n",
        "\n",
        "**2 - Machine Learning**\n",
        "\n",
        "2.1 -  Test predictions in data input\n",
        "\n",
        "2.2 Test result prediction"
      ]
    },
    {
      "cell_type": "code",
      "metadata": {
        "_cell_guid": "d664882f-2283-3d09-8232-e06aea3fef47",
        "id": "BxlNCyC0_aLe"
      },
      "source": [
        "# Python version\n",
        "import sys\n",
        "print('Python: {}'.format(sys.version))\n",
        "# scipy\n",
        "import scipy\n",
        "print('scipy: {}'.format(scipy.__version__))\n",
        "# numpy\n",
        "import numpy\n",
        "print('numpy: {}'.format(numpy.__version__))\n",
        "# matplotlib\n",
        "import matplotlib\n",
        "print('matplotlib: {}'.format(matplotlib.__version__))\n",
        "# pandas\n",
        "import pandas\n",
        "print('pandas: {}'.format(pandas.__version__))\n",
        "# scikit-learn\n",
        "import sklearn\n",
        "print('sklearn: {}'.format(sklearn.__version__))"
      ],
      "execution_count": null,
      "outputs": []
    },
    {
      "cell_type": "code",
      "metadata": {
        "_cell_guid": "ffc94d9f-b6fc-f850-a23b-ea8f81aab65a",
        "id": "SL2prqsb_aLj"
      },
      "source": [
        "# Load libraries\n",
        "import seaborn\n",
        "import pandas\n",
        "from pandas.tools.plotting import scatter_matrix\n",
        "import matplotlib.pyplot as plt\n",
        "from sklearn import cross_validation\n",
        "from sklearn.metrics import classification_report\n",
        "from sklearn.metrics import confusion_matrix\n",
        "from sklearn.metrics import accuracy_score\n",
        "from sklearn.linear_model import LogisticRegression\n",
        "from sklearn.tree import DecisionTreeClassifier\n",
        "from sklearn.neighbors import KNeighborsClassifier\n",
        "from sklearn.discriminant_analysis import LinearDiscriminantAnalysis\n",
        "from sklearn.naive_bayes import GaussianNB\n",
        "from sklearn.svm import SVC"
      ],
      "execution_count": null,
      "outputs": []
    },
    {
      "cell_type": "markdown",
      "metadata": {
        "_cell_guid": "153c5723-a5e5-157a-b4ab-1daaea8ed9ac",
        "id": "HzJTDjYY_aLl"
      },
      "source": [
        "**1.1 Load the data**"
      ]
    },
    {
      "cell_type": "code",
      "metadata": {
        "_cell_guid": "5e98d017-b4f2-ba71-b1f9-83c826c39131",
        "id": "imNjIPIo_aLm"
      },
      "source": [
        "# Load dataset\n",
        "dataset = pandas.read_csv(\"../input/Iris.csv\")"
      ],
      "execution_count": null,
      "outputs": []
    },
    {
      "cell_type": "markdown",
      "metadata": {
        "_cell_guid": "a56ca907-404e-23b4-aa7b-3d2f00356e56",
        "id": "nwwXcwVD_aLn"
      },
      "source": [
        "**1.2 Manipulating the data**"
      ]
    },
    {
      "cell_type": "code",
      "metadata": {
        "_cell_guid": "d65b5cf1-db1a-125b-ded4-7b3001738ff4",
        "id": "PfMAm_B9_aLo"
      },
      "source": [
        "print(dataset.head(5))"
      ],
      "execution_count": null,
      "outputs": []
    },
    {
      "cell_type": "code",
      "metadata": {
        "_cell_guid": "8331fece-c09d-d37a-3fb9-c910eb66d035",
        "id": "kUovcQJA_aLo"
      },
      "source": [
        "print(dataset.shape)"
      ],
      "execution_count": null,
      "outputs": []
    },
    {
      "cell_type": "code",
      "metadata": {
        "_cell_guid": "18bd2d02-09f4-85d8-e918-49e2a53a5402",
        "id": "v4X7QFNi_aLq"
      },
      "source": [
        "print(dataset.describe())"
      ],
      "execution_count": null,
      "outputs": []
    },
    {
      "cell_type": "code",
      "metadata": {
        "_cell_guid": "b6f4ee84-0ab9-7b9c-504d-b5b70a555dda",
        "id": "Vl9q31ZX_aLq"
      },
      "source": [
        "#Remove a column from the data\n",
        "dataset = dataset.drop('Id',axis=1)"
      ],
      "execution_count": null,
      "outputs": []
    },
    {
      "cell_type": "code",
      "metadata": {
        "_cell_guid": "c37098ba-5601-488a-1390-6987996c807b",
        "id": "8diFa0Nn_aLs"
      },
      "source": [
        "print(dataset.head(5))"
      ],
      "execution_count": null,
      "outputs": []
    },
    {
      "cell_type": "code",
      "metadata": {
        "_cell_guid": "d70ec0e4-8265-e8a0-0536-5010a1e98deb",
        "id": "tShTCp8J_aLt"
      },
      "source": [
        "print(dataset.describe())"
      ],
      "execution_count": null,
      "outputs": []
    },
    {
      "cell_type": "markdown",
      "metadata": {
        "_cell_guid": "578d818d-06c2-ac59-ec5d-45580ed4fe54",
        "id": "MD4o9_pg_aLu"
      },
      "source": [
        "**1.3 Visualizing the data**"
      ]
    },
    {
      "cell_type": "code",
      "metadata": {
        "_cell_guid": "6fe1a5b9-7da3-78da-8cc9-146fff575ffc",
        "id": "nbA9oBKB_aLv"
      },
      "source": [
        "dataset.plot(kind='box', subplots=True, layout=(2,2), sharex=False, sharey=False)\n",
        "plt.show()"
      ],
      "execution_count": null,
      "outputs": []
    },
    {
      "cell_type": "code",
      "metadata": {
        "_cell_guid": "97460d52-a63a-01d0-2380-22ea394adea6",
        "id": "KCAA7Yh1_aLw"
      },
      "source": [
        "seaborn.pairplot(dataset, hue=\"Species\", size=3, diag_kind=\"kde\")\n",
        "plt.show()"
      ],
      "execution_count": null,
      "outputs": []
    },
    {
      "cell_type": "code",
      "metadata": {
        "_cell_guid": "288942a0-f18d-d2e3-1822-d0acd61fe081",
        "id": "q2rGvM05_aLw"
      },
      "source": [
        "seaborn.pairplot(dataset, hue=\"Species\", size = 3)\n",
        "seaborn.set()"
      ],
      "execution_count": null,
      "outputs": []
    },
    {
      "cell_type": "code",
      "metadata": {
        "_cell_guid": "d8d073ac-7068-aa0d-9aee-b27be511ae41",
        "id": "cq2yQt8J_aLx"
      },
      "source": [
        "dataset.hist()\n",
        "plt.show()"
      ],
      "execution_count": null,
      "outputs": []
    },
    {
      "cell_type": "markdown",
      "metadata": {
        "_cell_guid": "860ce894-7a39-ebb3-e592-912698f0c894",
        "id": "nHEMXWmx_aLy"
      },
      "source": [
        "**2 Machine Learning**"
      ]
    },
    {
      "cell_type": "code",
      "metadata": {
        "_cell_guid": "04b8bb1b-d9c2-3a8d-9847-ab86c668920c",
        "id": "8nl3iq3O_aLz"
      },
      "source": [
        "#I made an adaptation of this reference online \n",
        "#----> http://machinelearningmastery.com/machine-learning-in-python-step-by-step/\n",
        "# Split-out validation dataset\n",
        "array = dataset.values\n",
        "X = array[:,0:4]\n",
        "Y = array[:,4]\n",
        "validation_size = 0.20\n",
        "seed = 7\n",
        "X_train, X_validation, Y_train, Y_validation = cross_validation.train_test_split(X, Y, test_size=validation_size, \n",
        "random_state=seed)"
      ],
      "execution_count": null,
      "outputs": []
    },
    {
      "cell_type": "code",
      "metadata": {
        "_cell_guid": "ea7492cc-6282-de6d-c91e-c3f5a0e72e6a",
        "id": "pF8lLusP_aLz"
      },
      "source": [
        "# Test options and evaluation metric\n",
        "num_folds = 10\n",
        "num_instances = len(X_train)\n",
        "seed = 7\n",
        "scoring = 'accuracy'"
      ],
      "execution_count": null,
      "outputs": []
    },
    {
      "cell_type": "code",
      "metadata": {
        "_cell_guid": "040c780e-2600-629c-b732-7c4df9890c57",
        "id": "L6qiGs74_aL0"
      },
      "source": [
        "#I made an adaptation of this reference online \n",
        "#----> http://machinelearningmastery.com/machine-learning-in-python-step-by-step/\n",
        "#Here we are testing various predictive algorithms from scikit-learn\n",
        "models = []\n",
        "models.append(('LR', LogisticRegression()))\n",
        "models.append(('LDA', LinearDiscriminantAnalysis()))\n",
        "models.append(('KNN', KNeighborsClassifier()))\n",
        "models.append(('CART', DecisionTreeClassifier()))\n",
        "models.append(('NB', GaussianNB()))\n",
        "models.append(('SVM', SVC()))\n",
        "# evaluate each model in turn\n",
        "results = []\n",
        "names = []\n",
        "for name, model in models:\n",
        "\tkfold = cross_validation.KFold(n=num_instances, n_folds=num_folds, random_state=seed)\n",
        "\tcv_results = cross_validation.cross_val_score(model, X_train, Y_train, cv=kfold, scoring=scoring)\n",
        "\tresults.append(cv_results)\n",
        "\tnames.append(name)\n",
        "\tmsg = \"%s: %f (%f)\" % (name, cv_results.mean(), cv_results.std())\n",
        "\tprint(msg)"
      ],
      "execution_count": null,
      "outputs": []
    },
    {
      "cell_type": "code",
      "metadata": {
        "_cell_guid": "b85ee1bf-7d75-3dd9-7cb6-a945093afe8a",
        "id": "Yl2Qf0f6_aL1"
      },
      "source": [
        "# Compare Algorithms\n",
        "fig = plt.figure()\n",
        "fig.suptitle('Algorithm Comparison')\n",
        "ax = fig.add_subplot(111)\n",
        "plt.boxplot(results)\n",
        "ax.set_xticklabels(names)\n",
        "plt.show()"
      ],
      "execution_count": null,
      "outputs": []
    },
    {
      "cell_type": "code",
      "metadata": {
        "_cell_guid": "cc9b22e0-e6af-4ca3-72db-cc765d79bfed",
        "id": "gnH9i3wF_aL1"
      },
      "source": [
        "\n",
        "# Make predictions on validation dataset\n",
        "svn = SVC()\n",
        "svn.fit(X_train, Y_train)\n",
        "predictions = svn.predict(X_validation)\n",
        "print(accuracy_score(Y_validation, predictions))\n",
        "print(confusion_matrix(Y_validation, predictions))\n",
        "print(classification_report(Y_validation, predictions))"
      ],
      "execution_count": null,
      "outputs": []
    },
    {
      "cell_type": "markdown",
      "metadata": {
        "_cell_guid": "52df3acf-11cd-3c4b-12bc-cdb504b57f15",
        "id": "Akc6EXT3_aL2"
      },
      "source": [
        "**2.1 Test predictions in data input**"
      ]
    },
    {
      "cell_type": "code",
      "metadata": {
        "_cell_guid": "d0173543-c109-7e87-b5d9-0b35be50228d",
        "id": "EcruZDcI_aL2"
      },
      "source": [
        "#Input Vector \n",
        "X_new = numpy.array([[3, 2, 4, 0.2], [  4.7, 3, 1.3, 0.2 ]])\n",
        "print(\"X_new.shape: {}\".format(X_new.shape))"
      ],
      "execution_count": null,
      "outputs": []
    },
    {
      "cell_type": "code",
      "metadata": {
        "_cell_guid": "a4ac04f3-017a-2ca2-c20c-1748c00b9f86",
        "id": "JWPq_ouH_aL2"
      },
      "source": [
        "prediction = svn.predict(X_new)"
      ],
      "execution_count": null,
      "outputs": []
    },
    {
      "cell_type": "markdown",
      "metadata": {
        "_cell_guid": "d78f67d5-5434-cc14-5e85-19ab101b068b",
        "id": "d2yz2USz_aL3"
      },
      "source": [
        "**2.1 Test result prediction**"
      ]
    },
    {
      "cell_type": "code",
      "metadata": {
        "_cell_guid": "486a6bf6-be66-4b57-272c-26abc6d2f55e",
        "id": "vcQpGlTs_aL3"
      },
      "source": [
        "#Prediction of the species from the input vector\n",
        "print(\"Prediction of Species: {}\".format(prediction))"
      ],
      "execution_count": null,
      "outputs": []
    },
    {
      "cell_type": "markdown",
      "metadata": {
        "_cell_guid": "aac520df-bcaa-24ad-9151-eeaf20f30d40",
        "id": "p0OoZ8s0_aL4"
      },
      "source": [
        "**Thanks!!**"
      ]
    }
  ]
}